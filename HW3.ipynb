{
 "cells": [
  {
   "cell_type": "markdown",
   "metadata": {},
   "source": [
    "# YZV211 - HW3 - Explatory Analysis & Statistical Inference\n",
    "\n",
    "In this assignment, you will be proceeding with analysing your answers from the survey. **Read each question thoroughly, write the code for visualization and make an explanation if question asks for. Do not forget to read the assignment document!**"
   ]
  },
  {
   "cell_type": "markdown",
   "metadata": {},
   "source": [
    "We first start by importing the necessary libraries for our homework."
   ]
  },
  {
   "cell_type": "code",
   "execution_count": 166,
   "metadata": {},
   "outputs": [],
   "source": [
    "\n",
    "import numpy as np\n",
    "import pandas as pd\n",
    "import matplotlib.pyplot as plt\n",
    "import scipy.stats as stats"
   ]
  },
  {
   "cell_type": "code",
   "execution_count": 167,
   "metadata": {},
   "outputs": [
    {
     "data": {
      "text/html": [
       "<div>\n",
       "<style scoped>\n",
       "    .dataframe tbody tr th:only-of-type {\n",
       "        vertical-align: middle;\n",
       "    }\n",
       "\n",
       "    .dataframe tbody tr th {\n",
       "        vertical-align: top;\n",
       "    }\n",
       "\n",
       "    .dataframe thead th {\n",
       "        text-align: right;\n",
       "    }\n",
       "</style>\n",
       "<table border=\"1\" class=\"dataframe\">\n",
       "  <thead>\n",
       "    <tr style=\"text-align: right;\">\n",
       "      <th></th>\n",
       "      <th>GPA</th>\n",
       "      <th>Repeat_Course_Num</th>\n",
       "      <th>Expected_GPA</th>\n",
       "      <th>Expected_Letter_Grade</th>\n",
       "      <th>Travel_Time</th>\n",
       "      <th>Do you have to work to cover your living expenses?</th>\n",
       "      <th>Time_For_Study</th>\n",
       "      <th>Time_For_Hobbies</th>\n",
       "      <th>Time_For_Sports</th>\n",
       "      <th>Time_For_Socializing</th>\n",
       "      <th>Time_For_Entertainment</th>\n",
       "      <th>How would you describe your regular diet?</th>\n",
       "      <th>How many sugary drinks (coke, fruit juice, sweet hot drinks etc) do you consume a day ?</th>\n",
       "      <th>Being good at Maths requires</th>\n",
       "      <th>Being good at Programming requires</th>\n",
       "      <th>Being good at Arts/Music requires</th>\n",
       "      <th>Being good at Sports requires</th>\n",
       "    </tr>\n",
       "  </thead>\n",
       "  <tbody>\n",
       "    <tr>\n",
       "      <th>0</th>\n",
       "      <td>2.25</td>\n",
       "      <td>0</td>\n",
       "      <td>3.4</td>\n",
       "      <td>BA</td>\n",
       "      <td>12</td>\n",
       "      <td>No</td>\n",
       "      <td>16</td>\n",
       "      <td>10</td>\n",
       "      <td>7</td>\n",
       "      <td>20</td>\n",
       "      <td>10</td>\n",
       "      <td>3</td>\n",
       "      <td>1</td>\n",
       "      <td>3</td>\n",
       "      <td>3</td>\n",
       "      <td>2</td>\n",
       "      <td>4</td>\n",
       "    </tr>\n",
       "    <tr>\n",
       "      <th>1</th>\n",
       "      <td>3.30</td>\n",
       "      <td>0</td>\n",
       "      <td>4.0</td>\n",
       "      <td>AA</td>\n",
       "      <td>75</td>\n",
       "      <td>Yes</td>\n",
       "      <td>30</td>\n",
       "      <td>0</td>\n",
       "      <td>6</td>\n",
       "      <td>168</td>\n",
       "      <td>0</td>\n",
       "      <td>4</td>\n",
       "      <td>1</td>\n",
       "      <td>5</td>\n",
       "      <td>5</td>\n",
       "      <td>5</td>\n",
       "      <td>5</td>\n",
       "    </tr>\n",
       "    <tr>\n",
       "      <th>2</th>\n",
       "      <td>2.69</td>\n",
       "      <td>0</td>\n",
       "      <td>3.0</td>\n",
       "      <td>CB</td>\n",
       "      <td>120</td>\n",
       "      <td>No</td>\n",
       "      <td>20</td>\n",
       "      <td>5</td>\n",
       "      <td>1</td>\n",
       "      <td>10</td>\n",
       "      <td>10</td>\n",
       "      <td>3</td>\n",
       "      <td>1</td>\n",
       "      <td>3</td>\n",
       "      <td>3</td>\n",
       "      <td>5</td>\n",
       "      <td>3</td>\n",
       "    </tr>\n",
       "    <tr>\n",
       "      <th>3</th>\n",
       "      <td>0.00</td>\n",
       "      <td>0</td>\n",
       "      <td>3.5</td>\n",
       "      <td>AA</td>\n",
       "      <td>10</td>\n",
       "      <td>No</td>\n",
       "      <td>20</td>\n",
       "      <td>10</td>\n",
       "      <td>10</td>\n",
       "      <td>15</td>\n",
       "      <td>13</td>\n",
       "      <td>2</td>\n",
       "      <td>1</td>\n",
       "      <td>3</td>\n",
       "      <td>4</td>\n",
       "      <td>2</td>\n",
       "      <td>5</td>\n",
       "    </tr>\n",
       "    <tr>\n",
       "      <th>4</th>\n",
       "      <td>2.80</td>\n",
       "      <td>0</td>\n",
       "      <td>3.0</td>\n",
       "      <td>BB</td>\n",
       "      <td>10</td>\n",
       "      <td>No</td>\n",
       "      <td>10</td>\n",
       "      <td>10</td>\n",
       "      <td>15</td>\n",
       "      <td>5</td>\n",
       "      <td>10</td>\n",
       "      <td>4</td>\n",
       "      <td>1</td>\n",
       "      <td>2</td>\n",
       "      <td>3</td>\n",
       "      <td>1</td>\n",
       "      <td>1</td>\n",
       "    </tr>\n",
       "  </tbody>\n",
       "</table>\n",
       "</div>"
      ],
      "text/plain": [
       "    GPA  Repeat_Course_Num  Expected_GPA Expected_Letter_Grade  Travel_Time  \\\n",
       "0  2.25                  0           3.4                    BA           12   \n",
       "1  3.30                  0           4.0                    AA           75   \n",
       "2  2.69                  0           3.0                    CB          120   \n",
       "3  0.00                  0           3.5                    AA           10   \n",
       "4  2.80                  0           3.0                    BB           10   \n",
       "\n",
       "  Do you have to work to cover your living expenses?   Time_For_Study  \\\n",
       "0                                                 No               16   \n",
       "1                                                Yes               30   \n",
       "2                                                 No               20   \n",
       "3                                                 No               20   \n",
       "4                                                 No               10   \n",
       "\n",
       "   Time_For_Hobbies  Time_For_Sports  Time_For_Socializing  \\\n",
       "0                10                7                    20   \n",
       "1                 0                6                   168   \n",
       "2                 5                1                    10   \n",
       "3                10               10                    15   \n",
       "4                10               15                     5   \n",
       "\n",
       "   Time_For_Entertainment  How would you describe your regular diet?   \\\n",
       "0                      10                                           3   \n",
       "1                       0                                           4   \n",
       "2                      10                                           3   \n",
       "3                      13                                           2   \n",
       "4                      10                                           4   \n",
       "\n",
       "   How many sugary drinks (coke, fruit juice, sweet hot drinks etc) do you consume a day ?   \\\n",
       "0                                                  1                                          \n",
       "1                                                  1                                          \n",
       "2                                                  1                                          \n",
       "3                                                  1                                          \n",
       "4                                                  1                                          \n",
       "\n",
       "   Being good at Maths requires   Being good at Programming requires   \\\n",
       "0                              3                                    3   \n",
       "1                              5                                    5   \n",
       "2                              3                                    3   \n",
       "3                              3                                    4   \n",
       "4                              2                                    3   \n",
       "\n",
       "   Being good at Arts/Music requires   Being good at Sports requires   \n",
       "0                                   2                               4  \n",
       "1                                   5                               5  \n",
       "2                                   5                               3  \n",
       "3                                   2                               5  \n",
       "4                                   1                               1  "
      ]
     },
     "metadata": {},
     "output_type": "display_data"
    }
   ],
   "source": [
    "df = pd.read_csv('survey_v2.csv')\n",
    "display(df.head())"
   ]
  },
  {
   "cell_type": "markdown",
   "metadata": {},
   "source": [
    "## Q1.1) Just to keep the column names simple, please rename them here\n",
    "\n",
    "You may need view the exact column names"
   ]
  },
  {
   "cell_type": "code",
   "execution_count": 168,
   "metadata": {},
   "outputs": [
    {
     "data": {
      "text/plain": [
       "Index(['GPA', 'Repeat_Course_Num', 'Expected_GPA', 'Expected_Letter_Grade',\n",
       "       'Travel_Time', 'Do you have to work to cover your living expenses? ',\n",
       "       'Time_For_Study', 'Time_For_Hobbies', 'Time_For_Sports',\n",
       "       'Time_For_Socializing', 'Time_For_Entertainment',\n",
       "       'How would you describe your regular diet? ',\n",
       "       'How many sugary drinks (coke, fruit juice, sweet hot drinks etc) do you consume a day ? ',\n",
       "       'Being good at Maths requires ', 'Being good at Programming requires ',\n",
       "       'Being good at Arts/Music requires ', 'Being good at Sports requires '],\n",
       "      dtype='object')"
      ]
     },
     "execution_count": 168,
     "metadata": {},
     "output_type": "execute_result"
    }
   ],
   "source": [
    "# SEE THE COLUMN NAMES HERE\n",
    "df.columns"
   ]
  },
  {
   "cell_type": "code",
   "execution_count": 169,
   "metadata": {},
   "outputs": [],
   "source": [
    "# YOUR INPLACE COLUMN RENAMING FUNCTION\n",
    "df.rename(columns={\"Do you have to work to cover your living expenses? \": \"Cover Living Expenses\", \"How would you describe your regular diet? \": \"Regular Diet\", \"How many sugary drinks (coke, fruit juice, sweet hot drinks etc) do you consume a day ? \": \"Sugar Consumption\", \"Being good at Maths requires \": \"Maths\", \"Being good at Programming requires \": \"Programming\", \"Being good at Arts/Music requires \": \"Arts\", \"Being good at Sports requires \": \"Sports\"}, inplace=True)"
   ]
  },
  {
   "cell_type": "code",
   "execution_count": 170,
   "metadata": {},
   "outputs": [
    {
     "data": {
      "text/html": [
       "<div>\n",
       "<style scoped>\n",
       "    .dataframe tbody tr th:only-of-type {\n",
       "        vertical-align: middle;\n",
       "    }\n",
       "\n",
       "    .dataframe tbody tr th {\n",
       "        vertical-align: top;\n",
       "    }\n",
       "\n",
       "    .dataframe thead th {\n",
       "        text-align: right;\n",
       "    }\n",
       "</style>\n",
       "<table border=\"1\" class=\"dataframe\">\n",
       "  <thead>\n",
       "    <tr style=\"text-align: right;\">\n",
       "      <th></th>\n",
       "      <th>GPA</th>\n",
       "      <th>Repeat_Course_Num</th>\n",
       "      <th>Expected_GPA</th>\n",
       "      <th>Expected_Letter_Grade</th>\n",
       "      <th>Travel_Time</th>\n",
       "      <th>Cover Living Expenses</th>\n",
       "      <th>Time_For_Study</th>\n",
       "      <th>Time_For_Hobbies</th>\n",
       "      <th>Time_For_Sports</th>\n",
       "      <th>Time_For_Socializing</th>\n",
       "      <th>Time_For_Entertainment</th>\n",
       "      <th>Regular Diet</th>\n",
       "      <th>Sugar Consumption</th>\n",
       "      <th>Maths</th>\n",
       "      <th>Programming</th>\n",
       "      <th>Arts</th>\n",
       "      <th>Sports</th>\n",
       "    </tr>\n",
       "  </thead>\n",
       "  <tbody>\n",
       "    <tr>\n",
       "      <th>0</th>\n",
       "      <td>2.25</td>\n",
       "      <td>0</td>\n",
       "      <td>3.4</td>\n",
       "      <td>BA</td>\n",
       "      <td>12</td>\n",
       "      <td>No</td>\n",
       "      <td>16</td>\n",
       "      <td>10</td>\n",
       "      <td>7</td>\n",
       "      <td>20</td>\n",
       "      <td>10</td>\n",
       "      <td>3</td>\n",
       "      <td>1</td>\n",
       "      <td>3</td>\n",
       "      <td>3</td>\n",
       "      <td>2</td>\n",
       "      <td>4</td>\n",
       "    </tr>\n",
       "    <tr>\n",
       "      <th>1</th>\n",
       "      <td>3.30</td>\n",
       "      <td>0</td>\n",
       "      <td>4.0</td>\n",
       "      <td>AA</td>\n",
       "      <td>75</td>\n",
       "      <td>Yes</td>\n",
       "      <td>30</td>\n",
       "      <td>0</td>\n",
       "      <td>6</td>\n",
       "      <td>168</td>\n",
       "      <td>0</td>\n",
       "      <td>4</td>\n",
       "      <td>1</td>\n",
       "      <td>5</td>\n",
       "      <td>5</td>\n",
       "      <td>5</td>\n",
       "      <td>5</td>\n",
       "    </tr>\n",
       "    <tr>\n",
       "      <th>2</th>\n",
       "      <td>2.69</td>\n",
       "      <td>0</td>\n",
       "      <td>3.0</td>\n",
       "      <td>CB</td>\n",
       "      <td>120</td>\n",
       "      <td>No</td>\n",
       "      <td>20</td>\n",
       "      <td>5</td>\n",
       "      <td>1</td>\n",
       "      <td>10</td>\n",
       "      <td>10</td>\n",
       "      <td>3</td>\n",
       "      <td>1</td>\n",
       "      <td>3</td>\n",
       "      <td>3</td>\n",
       "      <td>5</td>\n",
       "      <td>3</td>\n",
       "    </tr>\n",
       "    <tr>\n",
       "      <th>3</th>\n",
       "      <td>0.00</td>\n",
       "      <td>0</td>\n",
       "      <td>3.5</td>\n",
       "      <td>AA</td>\n",
       "      <td>10</td>\n",
       "      <td>No</td>\n",
       "      <td>20</td>\n",
       "      <td>10</td>\n",
       "      <td>10</td>\n",
       "      <td>15</td>\n",
       "      <td>13</td>\n",
       "      <td>2</td>\n",
       "      <td>1</td>\n",
       "      <td>3</td>\n",
       "      <td>4</td>\n",
       "      <td>2</td>\n",
       "      <td>5</td>\n",
       "    </tr>\n",
       "    <tr>\n",
       "      <th>4</th>\n",
       "      <td>2.80</td>\n",
       "      <td>0</td>\n",
       "      <td>3.0</td>\n",
       "      <td>BB</td>\n",
       "      <td>10</td>\n",
       "      <td>No</td>\n",
       "      <td>10</td>\n",
       "      <td>10</td>\n",
       "      <td>15</td>\n",
       "      <td>5</td>\n",
       "      <td>10</td>\n",
       "      <td>4</td>\n",
       "      <td>1</td>\n",
       "      <td>2</td>\n",
       "      <td>3</td>\n",
       "      <td>1</td>\n",
       "      <td>1</td>\n",
       "    </tr>\n",
       "  </tbody>\n",
       "</table>\n",
       "</div>"
      ],
      "text/plain": [
       "    GPA  Repeat_Course_Num  Expected_GPA Expected_Letter_Grade  Travel_Time  \\\n",
       "0  2.25                  0           3.4                    BA           12   \n",
       "1  3.30                  0           4.0                    AA           75   \n",
       "2  2.69                  0           3.0                    CB          120   \n",
       "3  0.00                  0           3.5                    AA           10   \n",
       "4  2.80                  0           3.0                    BB           10   \n",
       "\n",
       "  Cover Living Expenses  Time_For_Study  Time_For_Hobbies  Time_For_Sports  \\\n",
       "0                    No              16                10                7   \n",
       "1                   Yes              30                 0                6   \n",
       "2                    No              20                 5                1   \n",
       "3                    No              20                10               10   \n",
       "4                    No              10                10               15   \n",
       "\n",
       "   Time_For_Socializing  Time_For_Entertainment  Regular Diet  \\\n",
       "0                    20                      10             3   \n",
       "1                   168                       0             4   \n",
       "2                    10                      10             3   \n",
       "3                    15                      13             2   \n",
       "4                     5                      10             4   \n",
       "\n",
       "   Sugar Consumption  Maths  Programming  Arts  Sports  \n",
       "0                  1      3            3     2       4  \n",
       "1                  1      5            5     5       5  \n",
       "2                  1      3            3     5       3  \n",
       "3                  1      3            4     2       5  \n",
       "4                  1      2            3     1       1  "
      ]
     },
     "metadata": {},
     "output_type": "display_data"
    }
   ],
   "source": [
    "display(df.head())"
   ]
  },
  {
   "cell_type": "markdown",
   "metadata": {},
   "source": [
    "## Q1.2a) Apply mapping on the expected letter grades from string to floating point number\n",
    "\n",
    "You may need to have a look at to our school's website to convert the letter grades from string to floating point number. In this regard, the grades should be appearing as AA --> 4.0, BA --> 3.5, DD --> 1.0, FF --> 0.0."
   ]
  },
  {
   "cell_type": "code",
   "execution_count": 171,
   "metadata": {},
   "outputs": [],
   "source": [
    "## FIRST WRITE A MAPPING FUNCTION, THEN APPLY IT ON THAT SPECIFIED COLUMN\n",
    "lg = []\n",
    "def mapper(x: str) -> float:\n",
    "    letters = {\"AA\": 4.0, \"BA\": 3.5, \"BB\": 3.0, \"CB\": 2.5, \"CC\": 2.0, \"DC\": 1.5, \"DD\": 1.0, \"FF\": 0.0}\n",
    "    x = letters[x] # map the letter grade to the corresponding number\n",
    "    return x\n",
    "\n",
    "for i, elem in enumerate(df[\"Expected_Letter_Grade\"]):\n",
    "    lg.append(mapper(elem)) # append the mapped value to the list\n",
    "\n",
    "df.drop(\"Expected_Letter_Grade\", axis=1, inplace=True)\n",
    "df[\"Expected_Letter_Grade\"] = lg # add the new column to the dataframe (we deleted the old one)"
   ]
  },
  {
   "cell_type": "markdown",
   "metadata": {},
   "source": [
    "## Q1.2b) Apply mapping on the \"Is_Working\" column to represent it binary\n",
    "\n",
    "\"Yes\" would correspond to a 1 whereas a \"No\" would correspond to a 0."
   ]
  },
  {
   "cell_type": "code",
   "execution_count": 172,
   "metadata": {},
   "outputs": [],
   "source": [
    "## CREATE A SIMILAR MAPPING FOR YES/NO TYPE OF ANSWERS\n",
    "binary = []\n",
    "def mapper_binary(x: str) -> int:\n",
    "    binary = {\"Yes\": 1, \"No\": 0} # map the answer to the corresponding number\n",
    "    return binary[x]\n",
    "\n",
    "for i, elem in enumerate(df[\"Cover Living Expenses\"]):\n",
    "    binary.append(mapper_binary(elem)) # append the mapped value to the list\n",
    "\n",
    "df.drop(\"Cover Living Expenses\", axis=1, inplace=True)\n",
    "df[\"Cover Living Expenses\"] = binary # add the new column to the dataframe (we deleted the old one)"
   ]
  },
  {
   "cell_type": "code",
   "execution_count": 173,
   "metadata": {},
   "outputs": [
    {
     "data": {
      "text/html": [
       "<div>\n",
       "<style scoped>\n",
       "    .dataframe tbody tr th:only-of-type {\n",
       "        vertical-align: middle;\n",
       "    }\n",
       "\n",
       "    .dataframe tbody tr th {\n",
       "        vertical-align: top;\n",
       "    }\n",
       "\n",
       "    .dataframe thead th {\n",
       "        text-align: right;\n",
       "    }\n",
       "</style>\n",
       "<table border=\"1\" class=\"dataframe\">\n",
       "  <thead>\n",
       "    <tr style=\"text-align: right;\">\n",
       "      <th></th>\n",
       "      <th>GPA</th>\n",
       "      <th>Repeat_Course_Num</th>\n",
       "      <th>Expected_GPA</th>\n",
       "      <th>Travel_Time</th>\n",
       "      <th>Time_For_Study</th>\n",
       "      <th>Time_For_Hobbies</th>\n",
       "      <th>Time_For_Sports</th>\n",
       "      <th>Time_For_Socializing</th>\n",
       "      <th>Time_For_Entertainment</th>\n",
       "      <th>Regular Diet</th>\n",
       "      <th>Sugar Consumption</th>\n",
       "      <th>Maths</th>\n",
       "      <th>Programming</th>\n",
       "      <th>Arts</th>\n",
       "      <th>Sports</th>\n",
       "      <th>Expected_Letter_Grade</th>\n",
       "      <th>Cover Living Expenses</th>\n",
       "    </tr>\n",
       "  </thead>\n",
       "  <tbody>\n",
       "    <tr>\n",
       "      <th>0</th>\n",
       "      <td>2.25</td>\n",
       "      <td>0</td>\n",
       "      <td>3.4</td>\n",
       "      <td>12</td>\n",
       "      <td>16</td>\n",
       "      <td>10</td>\n",
       "      <td>7</td>\n",
       "      <td>20</td>\n",
       "      <td>10</td>\n",
       "      <td>3</td>\n",
       "      <td>1</td>\n",
       "      <td>3</td>\n",
       "      <td>3</td>\n",
       "      <td>2</td>\n",
       "      <td>4</td>\n",
       "      <td>3.5</td>\n",
       "      <td>0</td>\n",
       "    </tr>\n",
       "    <tr>\n",
       "      <th>1</th>\n",
       "      <td>3.30</td>\n",
       "      <td>0</td>\n",
       "      <td>4.0</td>\n",
       "      <td>75</td>\n",
       "      <td>30</td>\n",
       "      <td>0</td>\n",
       "      <td>6</td>\n",
       "      <td>168</td>\n",
       "      <td>0</td>\n",
       "      <td>4</td>\n",
       "      <td>1</td>\n",
       "      <td>5</td>\n",
       "      <td>5</td>\n",
       "      <td>5</td>\n",
       "      <td>5</td>\n",
       "      <td>4.0</td>\n",
       "      <td>1</td>\n",
       "    </tr>\n",
       "    <tr>\n",
       "      <th>2</th>\n",
       "      <td>2.69</td>\n",
       "      <td>0</td>\n",
       "      <td>3.0</td>\n",
       "      <td>120</td>\n",
       "      <td>20</td>\n",
       "      <td>5</td>\n",
       "      <td>1</td>\n",
       "      <td>10</td>\n",
       "      <td>10</td>\n",
       "      <td>3</td>\n",
       "      <td>1</td>\n",
       "      <td>3</td>\n",
       "      <td>3</td>\n",
       "      <td>5</td>\n",
       "      <td>3</td>\n",
       "      <td>2.5</td>\n",
       "      <td>0</td>\n",
       "    </tr>\n",
       "    <tr>\n",
       "      <th>3</th>\n",
       "      <td>0.00</td>\n",
       "      <td>0</td>\n",
       "      <td>3.5</td>\n",
       "      <td>10</td>\n",
       "      <td>20</td>\n",
       "      <td>10</td>\n",
       "      <td>10</td>\n",
       "      <td>15</td>\n",
       "      <td>13</td>\n",
       "      <td>2</td>\n",
       "      <td>1</td>\n",
       "      <td>3</td>\n",
       "      <td>4</td>\n",
       "      <td>2</td>\n",
       "      <td>5</td>\n",
       "      <td>4.0</td>\n",
       "      <td>0</td>\n",
       "    </tr>\n",
       "    <tr>\n",
       "      <th>4</th>\n",
       "      <td>2.80</td>\n",
       "      <td>0</td>\n",
       "      <td>3.0</td>\n",
       "      <td>10</td>\n",
       "      <td>10</td>\n",
       "      <td>10</td>\n",
       "      <td>15</td>\n",
       "      <td>5</td>\n",
       "      <td>10</td>\n",
       "      <td>4</td>\n",
       "      <td>1</td>\n",
       "      <td>2</td>\n",
       "      <td>3</td>\n",
       "      <td>1</td>\n",
       "      <td>1</td>\n",
       "      <td>3.0</td>\n",
       "      <td>0</td>\n",
       "    </tr>\n",
       "  </tbody>\n",
       "</table>\n",
       "</div>"
      ],
      "text/plain": [
       "    GPA  Repeat_Course_Num  Expected_GPA  Travel_Time  Time_For_Study  \\\n",
       "0  2.25                  0           3.4           12              16   \n",
       "1  3.30                  0           4.0           75              30   \n",
       "2  2.69                  0           3.0          120              20   \n",
       "3  0.00                  0           3.5           10              20   \n",
       "4  2.80                  0           3.0           10              10   \n",
       "\n",
       "   Time_For_Hobbies  Time_For_Sports  Time_For_Socializing  \\\n",
       "0                10                7                    20   \n",
       "1                 0                6                   168   \n",
       "2                 5                1                    10   \n",
       "3                10               10                    15   \n",
       "4                10               15                     5   \n",
       "\n",
       "   Time_For_Entertainment  Regular Diet  Sugar Consumption  Maths  \\\n",
       "0                      10             3                  1      3   \n",
       "1                       0             4                  1      5   \n",
       "2                      10             3                  1      3   \n",
       "3                      13             2                  1      3   \n",
       "4                      10             4                  1      2   \n",
       "\n",
       "   Programming  Arts  Sports  Expected_Letter_Grade  Cover Living Expenses  \n",
       "0            3     2       4                    3.5                      0  \n",
       "1            5     5       5                    4.0                      1  \n",
       "2            3     5       3                    2.5                      0  \n",
       "3            4     2       5                    4.0                      0  \n",
       "4            3     1       1                    3.0                      0  "
      ]
     },
     "metadata": {},
     "output_type": "display_data"
    }
   ],
   "source": [
    "display(df.head())"
   ]
  },
  {
   "cell_type": "markdown",
   "metadata": {},
   "source": [
    "# Q2) Describe Data"
   ]
  },
  {
   "cell_type": "markdown",
   "metadata": {},
   "source": [
    "Try to express the features of the dataset by using 5-figure summary and mean & standard deviation statistics. Describe what you see down below."
   ]
  },
  {
   "cell_type": "markdown",
   "metadata": {},
   "source": [
    "A2)"
   ]
  },
  {
   "cell_type": "code",
   "execution_count": 301,
   "metadata": {},
   "outputs": [
    {
     "data": {
      "text/plain": [
       "\"\\nAs we converted the categorical data into numerical data, we can now use the describe function to get the mean, standard deviation, min, max, etc. of the numerical data.\\n\\nIt can be seen that the expected GPA at the end of the bachelor is higher than people's current GPA. Then we can see that the average travel time is about 41 minutes from campus. \\n\\nPeople spend time for studying about 16 hours per week but it varies a lot since the standard deviation is 11.26.\\n\\nPeople are consuming a lot of sugar drinks.\\n\\nPeople think that programming requires more work than skills comparing to other fields.\\nMaths has the third highest mean value to this. \\n\\nAverage expected letter grade is 3.51 which is a BA.\\n\\nPeople generally do not cover their living expenses.\\n\\nMax GPA is 3.95 which is amazing for a student to achieve. Someone expects their GPA to be 4.0 which is also amazing.\\n\""
      ]
     },
     "execution_count": 301,
     "metadata": {},
     "output_type": "execute_result"
    }
   ],
   "source": [
    "## DESCRIBE THE DATASET\n",
    "df.describe()\n",
    "\n",
    "\"\"\"\n",
    "As we converted the categorical data into numerical data, we can now use the describe function to get the mean, standard deviation, min, max, etc. of the numerical data.\n",
    "\n",
    "It can be seen that the expected GPA at the end of the bachelor is higher than people's current GPA. Then we can see that the average travel time is about 41 minutes from campus. \n",
    "\n",
    "People spend time for studying about 16 hours per week but it varies a lot since the standard deviation is 11.26.\n",
    "\n",
    "People are consuming a lot of sugar drinks.\n",
    "\n",
    "People think that programming requires more work than skills comparing to other fields.\n",
    "Maths has the third highest mean value to this. \n",
    "\n",
    "Average expected letter grade is 3.51 which is a BA.\n",
    "\n",
    "People generally do not cover their living expenses.\n",
    "\n",
    "Max GPA is 3.95 which is amazing for a student to achieve. Someone expects their GPA to be 4.0 which is also amazing.\n",
    "\"\"\""
   ]
  },
  {
   "cell_type": "markdown",
   "metadata": {},
   "source": [
    "# Q3) Comment on the Data"
   ]
  },
  {
   "cell_type": "markdown",
   "metadata": {},
   "source": [
    "Answer the following questions on the data while providing graphs as a way to support your answers."
   ]
  },
  {
   "cell_type": "markdown",
   "metadata": {},
   "source": [
    "Q3a) What is the ratio between the students who work and those who do not?"
   ]
  },
  {
   "cell_type": "markdown",
   "metadata": {},
   "source": [
    "A3a):"
   ]
  },
  {
   "cell_type": "code",
   "execution_count": 240,
   "metadata": {},
   "outputs": [
    {
     "data": {
      "image/png": "[encoded data removed]",
      "text/plain": [
       "<Figure size 432x288 with 1 Axes>"
      ]
     },
     "metadata": {},
     "output_type": "display_data"
    }
   ],
   "source": [
    "# PROVIDE AN ACCEPTABLE GRAPH TO SUPPORT THIS CLAIM\n",
    "values = df[\"Cover Living Expenses\"].value_counts() # get the number of students who cover their living expenses\n",
    "\n",
    "plt.pie(values, labels=values.index, autopct='%1.1f%%', shadow=True, startangle=90) # plot the pie chart\n",
    "plt.show()\n",
    "# over 90 percent of the students are not working to cover their living expenses."
   ]
  },
  {
   "cell_type": "markdown",
   "metadata": {},
   "source": [
    "Q3b) What is the average of the Expected GPA? Also, is there any anomaly on its value distribution?"
   ]
  },
  {
   "cell_type": "markdown",
   "metadata": {},
   "source": [
    "A3b):"
   ]
  },
  {
   "cell_type": "code",
   "execution_count": 205,
   "metadata": {},
   "outputs": [
    {
     "data": {
      "image/png": "[encoded data removed]",
      "text/plain": [
       "<Figure size 432x288 with 1 Axes>"
      ]
     },
     "metadata": {
      "needs_background": "light"
     },
     "output_type": "display_data"
    }
   ],
   "source": [
    "# PROVIDE AN ACCEPTABLE GRAPH TO SUPPORT THIS CLAIM\n",
    "plt.boxplot(df[\"Expected_GPA\"], vert=False) # plot the boxplot\n",
    "plt.scatter(sum(df[\"Expected_GPA\"])/len(df[\"Expected_GPA\"]), 1, color=\"red\") # plot the mean\n",
    "plt.title(\"Expected GPA Boxplot\")\n",
    "plt.xlabel(\"Expected GPA\")\n",
    "plt.show()\n",
    "# in the graph, we can see that the box is distributed quite evenly. The mean is also close to the median, which means that the distribution is almost symmetric. (not perfect)"
   ]
  },
  {
   "cell_type": "markdown",
   "metadata": {},
   "source": [
    "Q3c) What is the avergae of the Expected Letter Grade? Also, is there any anomaly on its value distribution?"
   ]
  },
  {
   "cell_type": "markdown",
   "metadata": {},
   "source": [
    "A3c):"
   ]
  },
  {
   "cell_type": "code",
   "execution_count": 206,
   "metadata": {},
   "outputs": [
    {
     "data": {
      "image/png": "[encoded data removed]",
      "text/plain": [
       "<Figure size 432x288 with 1 Axes>"
      ]
     },
     "metadata": {
      "needs_background": "light"
     },
     "output_type": "display_data"
    }
   ],
   "source": [
    "# PROVIDE AN ACCEPTABLE GRAPH TO SUPPORT THIS CLAIM\n",
    "plt.boxplot(df[\"Expected_Letter_Grade\"], vert=False)\n",
    "plt.scatter(sum(df[\"Expected_Letter_Grade\"])/len(df[\"Expected_Letter_Grade\"]), 1, color=\"red\")\n",
    "plt.show()\n",
    "# in the graph, the box is not distributed evenly. I myself was expecting BA but it was because that I loved data science. People mostly expecting AA or BA makes this distribution skewed to the right. The mean is also close to the median, but there is no lower quartile and also the highest value and upper quartile is the same, AA which makes this boxplot not symmetric. There are also outliers (which I believe are the people who are more honest about their grades)."
   ]
  },
  {
   "cell_type": "markdown",
   "metadata": {},
   "source": [
    "Q3d) Is there a strong correlation ($r_{xy} > 0.5 || r_{xy} < -0.5$) between the travel time and Expected Letter Grade? If so, what is the sample Pearson correlation coefficient?"
   ]
  },
  {
   "cell_type": "markdown",
   "metadata": {},
   "source": [
    "A3d):"
   ]
  },
  {
   "cell_type": "code",
   "execution_count": 264,
   "metadata": {},
   "outputs": [
    {
     "name": "stdout",
     "output_type": "stream",
     "text": [
      "0.06618742424650481\n"
     ]
    },
    {
     "data": {
      "image/png": "[encoded data removed]",
      "text/plain": [
       "<Figure size 432x288 with 1 Axes>"
      ]
     },
     "metadata": {
      "needs_background": "light"
     },
     "output_type": "display_data"
    }
   ],
   "source": [
    "# PROVIDE AN ACCEPTABLE GRAPH AND CALCULATE THE CORRELATION COEFFICIENT TO SUPPORT THIS CLAIM\n",
    "# P.S: You should not use the pandas' or sklearn's corr function for this section,\n",
    "# you need to write it down from scratch.\n",
    "\n",
    "# cov(X, Y) = (sum (x - mean(X)) * (y - mean(Y)) ) * 1/(n-1)\n",
    "# correlation coefficient = covariance(X, Y) / (stdv(X) * stdv(Y))\n",
    "\n",
    "from math import sqrt # calculate the correlation coefficient\n",
    "\n",
    "def stdcalc(data):\n",
    "    mean = sum(data) / len(data)\n",
    "    # Square deviations\n",
    "    deviations = [(x - mean) ** 2 for x in data]\n",
    "    std = sqrt(sum(deviations) / len(data)) # calculate the standard deviation by square rooting the variance\n",
    "    return std\n",
    "\n",
    "def corr(x: pd.Series, y: pd.Series) -> float:\n",
    "    r = sum( (x - sum(x)/len(x)) * (y - sum(x)/len(x))) * 1/(len(x)-1) # calculate the covariance\n",
    "    r = r / (stdcalc(x) * stdcalc(y)) # divide the covariance by the product of the standard deviations\n",
    "    return r\n",
    "\n",
    "print(corr(df[\"Travel_Time\"], df[\"Expected_Letter_Grade\"])) # print the correlation coefficient\n",
    "plt.scatter(corr(df[\"Travel_Time\"], df[\"Expected_Letter_Grade\"]), corr(df[\"Travel_Time\"], df[\"Expected_Letter_Grade\"])) # plot the correlation coefficient\n",
    "plt.show()\n",
    "\n",
    "# as it can be seen in the graph, the correlation coefficient is very close to 0, which means that there is almost no\n",
    "# correlation between the travel time and the expected letter grade."
   ]
  },
  {
   "cell_type": "markdown",
   "metadata": {},
   "source": [
    "Q3e) Define a threshold for travel time in which you will be able to group the individuals that are proximate and distant. Then, describe these groups to see which features have changed significantly and remained unchanged. Write the things that you noticed down below."
   ]
  },
  {
   "cell_type": "markdown",
   "metadata": {},
   "source": [
    "A3e):"
   ]
  },
  {
   "cell_type": "code",
   "execution_count": 292,
   "metadata": {},
   "outputs": [
    {
     "data": {
      "image/png": "[encoded data removed]",
      "text/plain": [
       "<Figure size 432x288 with 1 Axes>"
      ]
     },
     "metadata": {
      "needs_background": "light"
     },
     "output_type": "display_data"
    },
    {
     "data": {
      "text/plain": [
       "'\\nGenerally the distribution remained unchanged, but the mean of the higher travel time group is higher than the lower travel time group\\nThis may mean that the students who have higher travel time have higher fighthing spirit and are more determined to get a higher GPA. (this theory is not proven yet)\\n'"
      ]
     },
     "execution_count": 292,
     "metadata": {},
     "output_type": "execute_result"
    }
   ],
   "source": [
    "# WRITE YOUR IMPLEMENTATION HERE!! \n",
    "TAU = 30 # Change this to a sensible value\n",
    "        # Group the dataframe based on the TAU value\n",
    "        # Desribe the statistics of these 2 newly-created dataframes\n",
    "\n",
    "lower = df[df[\"Travel_Time\"] <= TAU]\n",
    "higher = df[df[\"Travel_Time\"] > TAU]\n",
    "\n",
    "plt.scatter(lower[\"Travel_Time\"], lower[\"Expected_GPA\"], color=\"red\") # plot the lower travel time group\n",
    "plt.scatter(higher[\"Travel_Time\"], higher[\"Expected_GPA\"], color=\"blue\") # plot the higher travel time group\n",
    "plt.title(\"Travel Time vs Expected GPA\")\n",
    "plt.xlabel(\"Travel Time\")\n",
    "plt.ylabel(\"Expected GPA\", rotation=0, labelpad=50) # labelpad is used to move the label to the left\n",
    "plt.show()\n",
    "\"\"\"\n",
    "Generally the distribution remained unchanged, but the mean of the higher travel time group is higher than the lower travel time group\n",
    "This may mean that the students who have higher travel time have higher fighthing spirit and are more determined to get a higher GPA. (this theory is not proven yet)\n",
    "\"\"\""
   ]
  },
  {
   "cell_type": "markdown",
   "metadata": {},
   "source": [
    "Q3f) Define a threshold of $3.0$ for GPA and draw 3 plots side-by-side in which the x-axis is defined as the time for study and y-axis is chosen among time for hobbies, sports and socializing. Select an appropriate plot type for this task. Use green color to mark GPAs greater than or equal to $3.0$ and blue for GPAs lower than $3.0$. Do you notice any difference in preferences among these two segments? Do not forget to use a legend! "
   ]
  },
  {
   "cell_type": "markdown",
   "metadata": {},
   "source": [
    "A3f):"
   ]
  },
  {
   "cell_type": "code",
   "execution_count": 276,
   "metadata": {},
   "outputs": [
    {
     "data": {
      "image/png": "[encoded data removed]",
      "text/plain": [
       "<Figure size 1512x360 with 3 Axes>"
      ]
     },
     "metadata": {
      "needs_background": "light"
     },
     "output_type": "display_data"
    },
    {
     "data": {
      "text/plain": [
       "\"\\nIn the first two graph, nothing major is seen but on the third graph, few students who's gpa is lower than 3 spend more time on their hobbies and also few students who's gpa is higher than 3 spent more time on studying. Again not a major difference but it is still interesting to see.\\n\""
      ]
     },
     "execution_count": 276,
     "metadata": {},
     "output_type": "execute_result"
    }
   ],
   "source": [
    "# WRITE YOUR IMPLEMENTATION HERE!! \n",
    "\n",
    "time_3 = df[df[\"GPA\"] >= 3.0]\n",
    "time_2 = df[df[\"GPA\"] < 3.0]\n",
    "\n",
    "other_time = time_3[\"Time_For_Hobbies\"] + time_3[\"Time_For_Sports\"] + time_3[\"Time_For_Socializing\"] + time_3[\"Time_For_Entertainment\"] # sum the time for hobbies, sports, socializing and entertainment\n",
    "other_time_2 = time_2[\"Time_For_Hobbies\"] + time_2[\"Time_For_Sports\"] + time_2[\"Time_For_Socializing\"] + time_2[\"Time_For_Entertainment\"] # sum the time for hobbies, sports, socializing and entertainment\n",
    "\n",
    "plt.subplot(1, 3, 1).figure.set_size_inches(21, 5)\n",
    "plt.scatter(time_3[\"Time_For_Study\"], time_3[\"Time_For_Socializing\"], color=\"black\", alpha=0.5) # plot the time for study vs time for socializing\n",
    "plt.scatter(time_2[\"Time_For_Study\"], time_2[\"Time_For_Socializing\"], color=\"pink\")\n",
    "plt.legend([\"GPA >= 3.0\", \"GPA < 3.0\"])\n",
    "plt.xlabel(\"Study Time\")\n",
    "plt.ylabel(\"Socializing\", rotation=0, labelpad=20)\n",
    "plt.title(\"Study Time vs Socializing Time\") # plot the time for study vs time for socializing for the students who have GPA >= 3.0 and GPA < 3.0\n",
    "\n",
    "plt.subplot(1, 3, 2)\n",
    "plt.scatter(time_3[\"Time_For_Study\"], time_3[\"Time_For_Sports\"], color=\"black\", alpha=0.5)\n",
    "plt.scatter(time_2[\"Time_For_Study\"], time_2[\"Time_For_Sports\"], color=\"pink\")\n",
    "plt.legend([\"GPA >= 3.0\", \"GPA < 3.0\"])\n",
    "plt.xlabel(\"Study Time\")\n",
    "plt.ylabel(\"Sports\", rotation=0, labelpad=20)\n",
    "plt.title(\"Study Time vs Sports Time\")\n",
    "\n",
    "plt.subplot(1, 3, 3)\n",
    "plt.scatter(time_3[\"Time_For_Study\"], time_3[\"Time_For_Hobbies\"], color=\"black\", alpha=0.5)\n",
    "plt.scatter(time_2[\"Time_For_Study\"], time_2[\"Time_For_Hobbies\"], color=\"pink\")\n",
    "plt.legend([\"GPA >= 3.0\", \"GPA < 3.0\"])\n",
    "plt.xlabel(\"Study Time\")\n",
    "plt.ylabel(\"Hobbies\", rotation=0, labelpad=20)\n",
    "plt.title(\"Study Time vs Hobbies Time\")\n",
    "plt.show()\n",
    "\"\"\"\n",
    "In the first two graph, nothing major is seen but on the third graph, few students who's gpa is lower than 3 spend more time on their hobbies and also few students who's gpa is higher than 3 spent more time on studying. Again not a major difference but it is still interesting to see.\n",
    "\"\"\""
   ]
  },
  {
   "cell_type": "markdown",
   "metadata": {},
   "source": [
    "Q3g) Use the same GPA threshold and group the data frame into two segments as in the previous part. Select an appropriate plot type for depicting the time used for studying, sports and social activities, hobbies, and entertainment. Please include a legend for highlighting the differences between these two segments, and write down below if there are any significant differences in the preference of spending time."
   ]
  },
  {
   "cell_type": "markdown",
   "metadata": {},
   "source": [
    "A3g:)"
   ]
  },
  {
   "cell_type": "code",
   "execution_count": 293,
   "metadata": {},
   "outputs": [
    {
     "data": {
      "image/png": "[encoded data removed]",
      "text/plain": [
       "<Figure size 1080x504 with 1 Axes>"
      ]
     },
     "metadata": {
      "needs_background": "light"
     },
     "output_type": "display_data"
    },
    {
     "data": {
      "text/plain": [
       "'\\nPeople who have low gpa has less time for studying (mean was similar but median and the distribution is different and if we take out the outliers we can see that the distribution is different)\\n\\nGenerally low gpa people have less time to study. \\nOn the other hand, it is not fully possible to say that other activities are related to gpa.\\n'"
      ]
     },
     "execution_count": 293,
     "metadata": {},
     "output_type": "execute_result"
    }
   ],
   "source": [
    "# WRITE YOUR IMPLEMENTATION HERE!! \n",
    "\"\"\"\n",
    "plt.subplot(2, 2, 1).figure.set_size_inches(14, 10)\n",
    "plt.scatter(time_3[\"Time_For_Study\"], time_3[\"Time_For_Socializing\"], color=\"black\", alpha=0.5)\n",
    "plt.scatter(time_2[\"Time_For_Study\"], time_2[\"Time_For_Socializing\"], color=\"pink\")\n",
    "plt.legend([\"GPA >= 3.0\", \"GPA < 3.0\"])\n",
    "\n",
    "plt.subplot(2, 2, 2)\n",
    "plt.scatter(time_3[\"Time_For_Study\"], time_3[\"Time_For_Sports\"], color=\"black\", alpha=0.5)\n",
    "plt.scatter(time_2[\"Time_For_Study\"], time_2[\"Time_For_Sports\"], color=\"pink\")\n",
    "\n",
    "plt.subplot(2, 2, 3)\n",
    "plt.scatter(time_3[\"Time_For_Study\"], time_3[\"Time_For_Hobbies\"], color=\"black\", alpha=0.5)\n",
    "plt.scatter(time_2[\"Time_For_Study\"], time_2[\"Time_For_Hobbies\"], color=\"pink\")\n",
    "\n",
    "plt.subplot(2, 2, 4)\n",
    "plt.scatter(time_3[\"Time_For_Study\"], time_3[\"Time_For_Entertainment\"], color=\"black\", alpha=0.5)\n",
    "plt.scatter(time_2[\"Time_For_Study\"], time_2[\"Time_For_Entertainment\"], color=\"pink\")\n",
    "plt.show()\n",
    "\"\"\"\n",
    "\n",
    "plt.figure(figsize=(15, 7))\n",
    "plt.boxplot([time_3[\"Time_For_Study\"], time_2[\"Time_For_Study\"], time_3[\"Time_For_Socializing\"], time_2[\"Time_For_Socializing\"], time_3[\"Time_For_Sports\"], time_2[\"Time_For_Sports\"], time_3[\"Time_For_Hobbies\"], time_2[\"Time_For_Hobbies\"], time_3[\"Time_For_Entertainment\"], time_2[\"Time_For_Entertainment\"]], vert=False)\n",
    "\n",
    "plt.title(\"Time For Study vs Time For Socializing vs Time For Sports vs Time For Hobbies vs Time For Entertainment\")\n",
    "plt.xlabel(\"Time\")\n",
    "plt.yticks([1, 2, 3, 4, 5, 6, 7, 8, 9, 10], [\"Study\", \"Study for < 3\", \"Socializing\", \"Socializing for < 3\", \"Sports\", \"Sports for < 3\", \"Hobbies\", \"Hobbies for < 3\", \"Entertainment\", \"Entertainment for < 3\"])\n",
    "plt.show()\n",
    "\n",
    "\"\"\"\n",
    "People who have low gpa has less time for studying (mean was similar but median and the distribution is different and if we take out the outliers we can see that the distribution is different)\n",
    "\n",
    "Generally low gpa people have less time to study. \n",
    "On the other hand, it is not fully possible to say that other activities are related to gpa.\n",
    "\"\"\""
   ]
  },
  {
   "cell_type": "markdown",
   "metadata": {},
   "source": [
    "Q3h) Do the same experimentation as (Q3g) for identifying whether there is any difference between the segments in terms of the requirements for math, programming, arts/music and sports."
   ]
  },
  {
   "cell_type": "markdown",
   "metadata": {},
   "source": [
    "A3h:)"
   ]
  },
  {
   "cell_type": "code",
   "execution_count": 294,
   "metadata": {},
   "outputs": [
    {
     "data": {
      "image/png": "[encoded data removed]",
      "text/plain": [
       "<Figure size 432x288 with 1 Axes>"
      ]
     },
     "metadata": {
      "needs_background": "light"
     },
     "output_type": "display_data"
    },
    {
     "data": {
      "text/plain": [
       "'\\nPeople who have higher gpa tend to think that programming requires hard work more than people with lower gpa. This is the only noticeable difference.\\n'"
      ]
     },
     "execution_count": 294,
     "metadata": {},
     "output_type": "execute_result"
    }
   ],
   "source": [
    "# WRITE YOUR IMPLEMENTATION HERE!! \n",
    "\n",
    "plt.boxplot([time_3[\"Maths\"], time_2[\"Maths\"], time_3[\"Programming\"], time_2[\"Programming\"], time_3[\"Arts\"], time_2[\"Arts\"], time_3[\"Sports\"], time_2[\"Sports\"]], vert=False)\n",
    "plt.yticks([1, 2, 3, 4, 5, 6, 7, 8], [\"Maths\", \"Maths for < 3\", \"Programming\", \"Programming for < 3\", \"Arts\", \"Arts for < 3\", \"Sports\", \"Sports for < 3\"])\n",
    "plt.title(\"Maths vs Programming vs Arts vs Sports\") # plot the boxplot for the students who have GPA >= 3.0 and GPA < 3.0\n",
    "plt.xlabel(\"Higher is working harder\")\n",
    "plt.show()\n",
    "\n",
    "\"\"\"\n",
    "People who have higher gpa tend to think that programming requires hard work more than people with lower gpa. This is the only noticeable difference.\n",
    "\"\"\""
   ]
  },
  {
   "cell_type": "markdown",
   "metadata": {},
   "source": [
    "# Q4) Covariance/Correlation Matrices "
   ]
  },
  {
   "cell_type": "markdown",
   "metadata": {},
   "source": [
    "Q4a) Find the covariance and correlation matrices of the variables, and plot them on a good-looking heatmap. You can use the pandas/sklearn functions for this task. Comment on your results."
   ]
  },
  {
   "cell_type": "code",
   "execution_count": 302,
   "metadata": {},
   "outputs": [
    {
     "name": "stderr",
     "output_type": "stream",
     "text": [
      "<ipython-input-302-74c077db8ede>:7: MatplotlibDeprecationWarning: Auto-removal of overlapping axes is deprecated since 3.6 and will be removed two minor releases later; explicitly call ax.remove() as needed.\n",
      "  plt.subplot(1, 2, 1)\n"
     ]
    },
    {
     "data": {
      "image/png": "[encoded data removed]",
      "text/plain": [
       "<Figure size 1584x648 with 4 Axes>"
      ]
     },
     "metadata": {
      "needs_background": "light"
     },
     "output_type": "display_data"
    }
   ],
   "source": [
    "# WRITE YOUR IMPLEMENTATION HERE!! \n",
    "import seaborn as sns\n",
    "cov_matrix = df.cov()\n",
    "corr_matrix = df.corr()\n",
    "\n",
    "fig, ax = plt.subplots(figsize=(22, 9))\n",
    "plt.subplot(1, 2, 1)\n",
    "sns.heatmap(cov_matrix, annot=False, linewidths=1, cmap=\"Blues\") # plot the covariance matrix\n",
    "plt.title(\"Covariance Matrix\")\n",
    "\n",
    "plt.subplot(1, 2, 2)\n",
    "sns.heatmap(corr_matrix, vmin=0.5, annot=False, linewidths=1, cmap=\"Blues\") # plot the correlation matrix with vmin=0.5\n",
    "plt.title(\"Correlation Matrix\")\n",
    "plt.show()\n",
    "\n",
    "# the only strong correlation we saw was \"Cover Living Expenses\" and \"Time For Socializing\" where the correlation was higher than 0.5.\n",
    "# other than that, there was no strong correlation between the variables..\n",
    "# the covariance results are also not that visible."
   ]
  },
  {
   "cell_type": "markdown",
   "metadata": {},
   "source": [
    "Q4b) Based on the correlation matrix, which of the variables are strongly ($r_{xy} > 0.5 || r_{xy} < -0.5$) correlated? Which variable tuple has the highest (anti)correlation?"
   ]
  },
  {
   "cell_type": "code",
   "execution_count": 296,
   "metadata": {},
   "outputs": [
    {
     "data": {
      "image/png": "[encoded data removed]",
      "text/plain": [
       "<Figure size 432x288 with 2 Axes>"
      ]
     },
     "metadata": {
      "needs_background": "light"
     },
     "output_type": "display_data"
    }
   ],
   "source": [
    "sns.heatmap(corr_matrix, vmax=0.1, vmin=0, annot=False, linewidths=1, cmap=\"Blues\") # plot the correlation matrix with vmax=0.1 and vmin=0\n",
    "plt.title(\"Correlation Matrix\")\n",
    "plt.show()\n",
    "\n",
    "# the least correlated are in the below graph, white colored ones."
   ]
  },
  {
   "cell_type": "markdown",
   "metadata": {},
   "source": [
    "# Q5) Hypothesis Testing"
   ]
  },
  {
   "cell_type": "markdown",
   "metadata": {},
   "source": [
    "Select an appropriate test name and type for the hypothesis questions below and provide the p-value as well while defining the significance. You may want to use SciPy here."
   ]
  },
  {
   "cell_type": "markdown",
   "metadata": {},
   "source": [
    "Q5a) Do working students study less than their non-working counterparts?"
   ]
  },
  {
   "cell_type": "code",
   "execution_count": 297,
   "metadata": {},
   "outputs": [
    {
     "name": "stdout",
     "output_type": "stream",
     "text": [
      "Ttest_indResult(statistic=0.27149029926092405, pvalue=0.7872286833893175)\n",
      "working: 17.0\n",
      "not_working: 15.386363636363637\n"
     ]
    },
    {
     "data": {
      "text/plain": [
       "'\\nPeople who work are also studying more but this could be because there are not much people who are working so our sample size is small.\\nAlso the p value is way too high which means that we cannot reject the null hypothesis. (higher p value means that the data is not statistically relevant)\\n\\n'"
      ]
     },
     "execution_count": 297,
     "metadata": {},
     "output_type": "execute_result"
    }
   ],
   "source": [
    "# WRITE YOUR IMPLEMENTATION HERE!! \n",
    "working = df[df[\"Cover Living Expenses\"] == 1]\n",
    "not_working = df[df[\"Cover Living Expenses\"] == 0]\n",
    "\n",
    "print(stats.ttest_ind(working[\"Time_For_Study\"], not_working[\"Time_For_Study\"])) # perform the t-test for the students who cover their living expenses and the students who don't cover their living expenses for the \"Time For Study\" variable\n",
    "print(\"working:\" ,working[\"Time_For_Study\"].mean())\n",
    "print(\"not_working:\" ,not_working[\"Time_For_Study\"].mean())\n",
    "\n",
    "\"\"\"\n",
    "People who work are also studying more but this could be because there are not much people who are working so our sample size is small.\n",
    "Also the p value is way too high which means that we cannot reject the null hypothesis. (higher p value means that the data is not statistically relevant)\n",
    "\n",
    "\"\"\""
   ]
  },
  {
   "cell_type": "markdown",
   "metadata": {},
   "source": [
    "Q5b) Do students having lower GPA tend to believe intelligence is more key for programming?"
   ]
  },
  {
   "cell_type": "code",
   "execution_count": 299,
   "metadata": {},
   "outputs": [
    {
     "name": "stdout",
     "output_type": "stream",
     "text": [
      "Lower than 3 GPA: (mean)  3.076923076923077 Higher than 3 GPA: (mean)  3.1818181818181817\n",
      "Lower than 3 GPA:  Ttest_indResult(statistic=-3.393027598112566, pvalue=0.001359691198421027)\n",
      "Higher Than 3 GPA: Ttest_indResult(statistic=0.8037378326175807, pvalue=0.4260741350111259)\n"
     ]
    },
    {
     "data": {
      "text/plain": [
       "'\\nPeople who have higher gpa think that maths requires more hard work than people who have lower gpa.\\nAnd the p value for higher than 3 gpa is high which means that we cannot reject the null hypothesis. (the data is not relevant at all)\\n'"
      ]
     },
     "execution_count": 299,
     "metadata": {},
     "output_type": "execute_result"
    }
   ],
   "source": [
    "# WRITE YOUR IMPLEMENTATION HERE!! \n",
    "# gpa lower than 3\n",
    "gpa_3 = df[df[\"GPA\"] < 3.0]\n",
    "# gpa higher than 3\n",
    "gpa_3_1 = df[df[\"GPA\"] >= 3.0]\n",
    "# higher means hard work\n",
    "print(\"Lower than 3 GPA: (mean) \", np.mean(gpa_3[\"Maths\"]),\"Higher than 3 GPA: (mean) \",  np.mean(gpa_3_1[\"Maths\"])) # print the mean of the \"Maths\" variable for the students who have GPA < 3.0 and the students who have GPA >= 3.0\n",
    "print(\"Lower than 3 GPA: \", stats.ttest_ind(gpa_3[\"GPA\"], gpa_3[\"Maths\"])) # perform the t-test for the students who have GPA < 3.0 and the students who have GPA >= 3.0 for the \"Maths\" variable\n",
    "print(\"Higher Than 3 GPA:\", stats.ttest_ind(gpa_3_1[\"GPA\"], gpa_3_1[\"Maths\"]))\n",
    "\n",
    "\"\"\"\n",
    "People who have higher gpa think that maths requires more hard work than people who have lower gpa.\n",
    "And the p value for higher than 3 gpa is high which means that we cannot reject the null hypothesis. (the data is not relevant at all)\n",
    "\"\"\""
   ]
  },
  {
   "cell_type": "markdown",
   "metadata": {},
   "source": [
    "Q5c) Write your own hypothesis question here!!\n",
    "Since this course is also about programming and people suffered from python class last term, I am going to ask Q5b with programming:"
   ]
  },
  {
   "cell_type": "code",
   "execution_count": 291,
   "metadata": {},
   "outputs": [
    {
     "name": "stdout",
     "output_type": "stream",
     "text": [
      "Lower than 3 GPA: (mean)  3.8076923076923075 Higher than 3 GPA: (mean)  3.9545454545454546\n",
      "Lower than 3 GPA:  Ttest_indResult(statistic=-7.153039699626522, pvalue=3.4584008396318955e-09)\n",
      "Higher Than 3 GPA: Ttest_indResult(statistic=-3.05016502641022, pvalue=0.003951469079894672)\n"
     ]
    },
    {
     "data": {
      "text/plain": [
       "'\\nPeople who have higher gpa think that programming requires more hard work than people who have lower gpa.\\nAnd all the p values are low which shows us that the data could be relevant and significant.\\n'"
      ]
     },
     "execution_count": 291,
     "metadata": {},
     "output_type": "execute_result"
    }
   ],
   "source": [
    "# WRITE YOUR IMPLEMENTATION HERE!! \n",
    "# gpa lower than 3\n",
    "gpa_3 = df[df[\"GPA\"] < 3.0]\n",
    "# gpa higher than 3\n",
    "gpa_3_1 = df[df[\"GPA\"] >= 3.0]\n",
    "# higher means hard work\n",
    "print(\"Lower than 3 GPA: (mean) \", np.mean(gpa_3[\"Programming\"]),\"Higher than 3 GPA: (mean) \",  np.mean(gpa_3_1[\"Programming\"])) # print the mean of the \"Programming\" variable for the students who have GPA < 3.0 and the students who have GPA >= 3.0\n",
    "print(\"Lower than 3 GPA: \", stats.ttest_ind(gpa_3[\"GPA\"], gpa_3[\"Programming\"])) # perform the t-test for the students who have GPA < 3.0 and the students who have GPA >= 3.0 for the \"Programming\" variable\n",
    "print(\"Higher Than 3 GPA:\", stats.ttest_ind(gpa_3_1[\"GPA\"], gpa_3_1[\"Programming\"]))\n",
    "\n",
    "\"\"\"\n",
    "People who have higher gpa think that programming requires more hard work than people who have lower gpa.\n",
    "And all the p values are low which shows us that the data could be relevant and significant.\n",
    "\"\"\""
   ]
  }
 ],
 "metadata": {
  "kernelspec": {
   "display_name": "Python 3.8.8 ('base')",
   "language": "python",
   "name": "python3"
  },
  "language_info": {
   "codemirror_mode": {
    "name": "ipython",
    "version": 3
   },
   "file_extension": ".py",
   "mimetype": "text/x-python",
   "name": "python",
   "nbconvert_exporter": "python",
   "pygments_lexer": "ipython3",
   "version": "3.8.8"
  },
  "orig_nbformat": 4,
  "vscode": {
   "interpreter": {
    "hash": "72a8ec87c188797c3b2d1dc3c7662edd7e8a21afd42ce6bbed3de46a827dc390"
   }
  }
 },
 "nbformat": 4,
 "nbformat_minor": 2
}
